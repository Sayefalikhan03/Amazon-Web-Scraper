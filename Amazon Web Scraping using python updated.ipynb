{
 "cells": [
  {
   "cell_type": "code",
   "execution_count": null,
   "id": "23558d31",
   "metadata": {},
   "outputs": [
    {
     "name": "stdout",
     "output_type": "stream",
     "text": [
      "Apple 2022 MacBook Air Laptop mit M2 Chip: 13,6\" Liquid Retina Display, 8GB RAM, 256 GB SSD Speicher, beleuchtete Tastatur, 1080p FaceTime HD Kamera. Kompatibel mit iPhone/iPad; Space Grau\n",
      "Auf Lager\n",
      "598 Sternebewertungen\n",
      "None\n",
      "None\n"
     ]
    }
   ],
   "source": [
    "# import libraries \n",
    "\n",
    "from bs4 import BeautifulSoup\n",
    "import requests\n",
    "import time\n",
    "import datetime\n",
    "import csv \n",
    "import pandas as pd\n",
    "\n",
    "import smtplib\n",
    "\n",
    "\n",
    "# Connect to Website and pull in data\n",
    "\n",
    "URL = 'https://www.amazon.de/MLXW3D-A/dp/B0B3BMTSKT/ref=sr_1_1_sspa?keywords=macbook+air+m2&qid=1678049762&sprefix=macbook%2Caps%2C142&sr=8-1-spons&sp_csd=d2lkZ2V0TmFtZT1zcF9hdGY&psc=1'\n",
    "\n",
    "headers = {\"User-Agent\": \"Mozilla/5.0 (Windows NT 10.0; Win64; x64) AppleWebKit/537.36 (KHTML, like Gecko) Chrome/110.0.0.0 Safari/537.36\", \"Accept-Encoding\":\"gzip, deflate\", \"Accept\":\"text/html,application/xhtml+xml,application/xml;q=0.9,*/*;q=0.8\", \"DNT\":\"1\",\"Connection\":\"close\", \"Upgrade-Insecure-Requests\":\"1\"}\n",
    "\n",
    "def check_price():\n",
    "    page = requests.get(URL, headers=headers)\n",
    "\n",
    "    soup1 = BeautifulSoup(page.content, \"html.parser\")\n",
    "\n",
    "    soup2 = BeautifulSoup(soup1.prettify(), \"html.parser\")\n",
    "\n",
    "    title = soup2.find(id=\"productTitle\").get_text().strip()\n",
    "\n",
    "    try:\n",
    "        price = float(soup2.find(id=\"priceblock_ourprice\").get_text().replace(',', '.').replace('€', '').strip())\n",
    "    except:\n",
    "        price = None\n",
    "    \n",
    "    try:\n",
    "        original_price = float(soup2.find(class_=\"priceBlockStrikePriceString\").get_text().replace(',', '.').replace('€', '').strip())\n",
    "    except:\n",
    "        original_price = None\n",
    "        \n",
    "    instock = soup2.find(id=\"availability\").get_text().strip()\n",
    "    review = soup2.find(id=\"acrCustomerReviewText\").get_text().strip()\n",
    "\n",
    "    print(title)\n",
    "    print(instock)\n",
    "    print(review)\n",
    "    print(price)\n",
    "    print(original_price)\n",
    "\n",
    "    today = datetime.date.today()\n",
    "\n",
    "    # Check if the price has dropped\n",
    "    if original_price is not None and price is not None and price < original_price:\n",
    "        price_drop = original_price - price\n",
    "    else:\n",
    "        price_drop = None\n",
    "\n",
    "    header = ['Title', 'Instock', 'Number of Reviews', 'Price', 'Original Price', 'Price Drop', 'Date']\n",
    "    data = [title, instock, review, price, original_price, price_drop, today]\n",
    "\n",
    "    with open('AmazonWebScraperDataset.csv', 'a', newline='', encoding='UTF8') as f:\n",
    "        writer = csv.writer(f)\n",
    "        if f.tell() == 0:\n",
    "            writer.writerow(header)\n",
    "        writer.writerow(data)\n",
    "\n",
    "# Runs check after a set time and inputs data into your CSV\n",
    "while(True):\n",
    "    check_price()\n",
    "    time.sleep(86400)\n"
   ]
  },
  {
   "cell_type": "code",
   "execution_count": null,
   "id": "4e048a54",
   "metadata": {},
   "outputs": [],
   "source": []
  }
 ],
 "metadata": {
  "kernelspec": {
   "display_name": "Python 3 (ipykernel)",
   "language": "python",
   "name": "python3"
  }
 },
 "nbformat": 4,
 "nbformat_minor": 5
}
